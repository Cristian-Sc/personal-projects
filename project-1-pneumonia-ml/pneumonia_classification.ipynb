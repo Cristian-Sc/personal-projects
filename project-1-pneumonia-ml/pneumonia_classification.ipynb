{
 "cells": [
  {
   "cell_type": "code",
   "execution_count": 18,
   "id": "903862bb-e7dc-4930-b290-526ab2ea4777",
   "metadata": {},
   "outputs": [],
   "source": [
    "import pandas as pd\n",
    "import os"
   ]
  },
  {
   "cell_type": "code",
   "execution_count": 19,
   "id": "dc8ed768-d070-4082-b3be-b44d9686bc4b",
   "metadata": {},
   "outputs": [
    {
     "name": "stdout",
     "output_type": "stream",
     "text": [
      "Ruta base: D:\\Proyecto 1 - Neumonia\n"
     ]
    }
   ],
   "source": [
    "# Ruta base del proyecto (ajustar si cambias de ordenador)\n",
    "BASE_DIR = r\"D:\\Proyecto 1 - Neumonia\"\n",
    "DATA_DIR = os.path.join(BASE_DIR, \"data\")\n",
    "IMG_DIR = os.path.join(DATA_DIR, \"images\")\n",
    "CSV_PATH = os.path.join(DATA_DIR, \"Data_Entry_2017_v2020.csv\")\n",
    "RESULTS_DIR = os.path.join(BASE_DIR, \"results\")\n",
    "\n",
    "print(\"Ruta base:\", BASE_DIR)"
   ]
  },
  {
   "cell_type": "code",
   "execution_count": 13,
   "id": "abd8f8fc-4729-421c-9b19-3d34b0fe44ee",
   "metadata": {},
   "outputs": [],
   "source": [
    "df = pd.read_csv(CSV_PATH)"
   ]
  },
  {
   "cell_type": "code",
   "execution_count": 14,
   "id": "3c0997f8-42d5-4fc0-aa32-3580de59b511",
   "metadata": {},
   "outputs": [
    {
     "data": {
      "text/html": [
       "<div>\n",
       "<style scoped>\n",
       "    .dataframe tbody tr th:only-of-type {\n",
       "        vertical-align: middle;\n",
       "    }\n",
       "\n",
       "    .dataframe tbody tr th {\n",
       "        vertical-align: top;\n",
       "    }\n",
       "\n",
       "    .dataframe thead th {\n",
       "        text-align: right;\n",
       "    }\n",
       "</style>\n",
       "<table border=\"1\" class=\"dataframe\">\n",
       "  <thead>\n",
       "    <tr style=\"text-align: right;\">\n",
       "      <th></th>\n",
       "      <th>Image Index</th>\n",
       "      <th>Finding Labels</th>\n",
       "      <th>Follow-up #</th>\n",
       "      <th>Patient ID</th>\n",
       "      <th>Patient Age</th>\n",
       "      <th>Patient Sex</th>\n",
       "      <th>View Position</th>\n",
       "      <th>OriginalImage[Width</th>\n",
       "      <th>Height]</th>\n",
       "      <th>OriginalImagePixelSpacing[x</th>\n",
       "      <th>y]</th>\n",
       "    </tr>\n",
       "  </thead>\n",
       "  <tbody>\n",
       "    <tr>\n",
       "      <th>0</th>\n",
       "      <td>00000001_000.png</td>\n",
       "      <td>Cardiomegaly</td>\n",
       "      <td>0</td>\n",
       "      <td>1</td>\n",
       "      <td>57</td>\n",
       "      <td>M</td>\n",
       "      <td>PA</td>\n",
       "      <td>2682</td>\n",
       "      <td>2749</td>\n",
       "      <td>0.143</td>\n",
       "      <td>0.143</td>\n",
       "    </tr>\n",
       "    <tr>\n",
       "      <th>1</th>\n",
       "      <td>00000001_001.png</td>\n",
       "      <td>Cardiomegaly|Emphysema</td>\n",
       "      <td>1</td>\n",
       "      <td>1</td>\n",
       "      <td>58</td>\n",
       "      <td>M</td>\n",
       "      <td>PA</td>\n",
       "      <td>2894</td>\n",
       "      <td>2729</td>\n",
       "      <td>0.143</td>\n",
       "      <td>0.143</td>\n",
       "    </tr>\n",
       "    <tr>\n",
       "      <th>2</th>\n",
       "      <td>00000001_002.png</td>\n",
       "      <td>Cardiomegaly|Effusion</td>\n",
       "      <td>2</td>\n",
       "      <td>1</td>\n",
       "      <td>58</td>\n",
       "      <td>M</td>\n",
       "      <td>PA</td>\n",
       "      <td>2500</td>\n",
       "      <td>2048</td>\n",
       "      <td>0.168</td>\n",
       "      <td>0.168</td>\n",
       "    </tr>\n",
       "    <tr>\n",
       "      <th>3</th>\n",
       "      <td>00000002_000.png</td>\n",
       "      <td>No Finding</td>\n",
       "      <td>0</td>\n",
       "      <td>2</td>\n",
       "      <td>80</td>\n",
       "      <td>M</td>\n",
       "      <td>PA</td>\n",
       "      <td>2500</td>\n",
       "      <td>2048</td>\n",
       "      <td>0.171</td>\n",
       "      <td>0.171</td>\n",
       "    </tr>\n",
       "    <tr>\n",
       "      <th>4</th>\n",
       "      <td>00000003_001.png</td>\n",
       "      <td>Hernia</td>\n",
       "      <td>0</td>\n",
       "      <td>3</td>\n",
       "      <td>74</td>\n",
       "      <td>F</td>\n",
       "      <td>PA</td>\n",
       "      <td>2500</td>\n",
       "      <td>2048</td>\n",
       "      <td>0.168</td>\n",
       "      <td>0.168</td>\n",
       "    </tr>\n",
       "  </tbody>\n",
       "</table>\n",
       "</div>"
      ],
      "text/plain": [
       "        Image Index          Finding Labels  Follow-up #  Patient ID  \\\n",
       "0  00000001_000.png            Cardiomegaly            0           1   \n",
       "1  00000001_001.png  Cardiomegaly|Emphysema            1           1   \n",
       "2  00000001_002.png   Cardiomegaly|Effusion            2           1   \n",
       "3  00000002_000.png              No Finding            0           2   \n",
       "4  00000003_001.png                  Hernia            0           3   \n",
       "\n",
       "   Patient Age Patient Sex View Position  OriginalImage[Width  Height]  \\\n",
       "0           57           M            PA                 2682     2749   \n",
       "1           58           M            PA                 2894     2729   \n",
       "2           58           M            PA                 2500     2048   \n",
       "3           80           M            PA                 2500     2048   \n",
       "4           74           F            PA                 2500     2048   \n",
       "\n",
       "   OriginalImagePixelSpacing[x     y]  \n",
       "0                        0.143  0.143  \n",
       "1                        0.143  0.143  \n",
       "2                        0.168  0.168  \n",
       "3                        0.171  0.171  \n",
       "4                        0.168  0.168  "
      ]
     },
     "execution_count": 14,
     "metadata": {},
     "output_type": "execute_result"
    }
   ],
   "source": [
    "df.head()"
   ]
  },
  {
   "cell_type": "code",
   "execution_count": 15,
   "id": "1cc06f88-591b-474f-a003-5211a6c13b58",
   "metadata": {},
   "outputs": [
    {
     "name": "stdout",
     "output_type": "stream",
     "text": [
      "Total filas: 112120\n",
      "Columnas: ['Image Index', 'Finding Labels', 'Follow-up #', 'Patient ID', 'Patient Age', 'Patient Sex', 'View Position', 'OriginalImage[Width', 'Height]', 'OriginalImagePixelSpacing[x', 'y]']\n"
     ]
    }
   ],
   "source": [
    "print(\"Total filas:\", len(df))\n",
    "print(\"Columnas:\", df.columns.tolist())"
   ]
  },
  {
   "cell_type": "code",
   "execution_count": 24,
   "id": "f7c9dccc-c3a0-431a-95bf-b14caf47f6b8",
   "metadata": {},
   "outputs": [
    {
     "name": "stdout",
     "output_type": "stream",
     "text": [
      "Total Pneumonía etiquetadas: 1431\n",
      "De esas, disponibles en tu carpeta: 184\n"
     ]
    }
   ],
   "source": [
    "import os\n",
    "\n",
    "IMG_DIR = r\"D:\\Proyecto 1 - Neumonia\\data\\images\"\n",
    "\n",
    "df_pneumonia = df[df['Finding Labels'].str.contains('Pneumonia')]\n",
    "\n",
    "# Contamos cuántas imágenes existen físicamente\n",
    "available = df_pneumonia['Image Index'].apply(lambda x: os.path.exists(os.path.join(IMG_DIR, x)))\n",
    "print(\"Total Pneumonía etiquetadas:\", len(df_pneumonia))\n",
    "print(\"De esas, disponibles en tu carpeta:\", available.sum())\n",
    "\n"
   ]
  },
  {
   "cell_type": "code",
   "execution_count": null,
   "id": "9015414e-b713-4520-b802-b125318de358",
   "metadata": {},
   "outputs": [],
   "source": [
    "df_pneumonia['exists'] = df_pneumonia['Image Index'].apply(lambda x: os.path.exists(os.path.join(IMG_DIR, x)))\n",
    "df_pneu_avail = df_pneumonia[df_pneumonia['exists']].copy()"
   ]
  },
  {
   "cell_type": "code",
   "execution_count": 27,
   "id": "64fb3b1d-ca1d-4311-8061-8197fa865f6c",
   "metadata": {},
   "outputs": [
    {
     "name": "stdout",
     "output_type": "stream",
     "text": [
      "Imágenes normales disponibles: 161\n"
     ]
    }
   ],
   "source": [
    "df_normal = df[df['Finding Labels'] == 'No Finding'].copy()\n",
    "\n",
    "# 2️⃣ Tomamos una muestra de 1000 filas para no revisar las 60 000\n",
    "df_normal_sample = df_normal.sample(1000, random_state=42).copy()\n",
    "\n",
    "# 3️⃣ Verificamos cuáles de esas imágenes existen físicamente\n",
    "df_normal_sample['exists'] = df_normal_sample['Image Index'].apply(\n",
    "    lambda x: os.path.exists(os.path.join(IMG_DIR, x))\n",
    ")\n",
    "\n",
    "# 4️⃣ Nos quedamos con las que realmente existen\n",
    "df_norm_avail = df_normal_sample[df_normal_sample['exists']].copy()\n",
    "\n",
    "# 5️⃣ Revisamos cuántas hay\n",
    "print(\"Imágenes normales disponibles:\", len(df_norm_avail))"
   ]
  },
  {
   "cell_type": "code",
   "execution_count": 28,
   "id": "06fc85c1-0fde-4d4e-b8eb-4d7cf27e7f1b",
   "metadata": {},
   "outputs": [
    {
     "name": "stdout",
     "output_type": "stream",
     "text": [
      "Total imágenes en el subset: 322\n",
      "label\n",
      "0    161\n",
      "1    161\n",
      "Name: count, dtype: int64\n"
     ]
    }
   ],
   "source": [
    "# 1️⃣ Igualamos el número de imágenes\n",
    "n_samples = min(len(df_pneu_avail), len(df_norm_avail))\n",
    "\n",
    "df_pneu_bal = df_pneu_avail.sample(n_samples, random_state=42).copy()\n",
    "df_norm_bal = df_norm_avail.sample(n_samples, random_state=42).copy()\n",
    "\n",
    "# 2️⃣ Añadimos las etiquetas binarias\n",
    "df_pneu_bal['label'] = 1   # neumonía\n",
    "df_norm_bal['label'] = 0   # normales\n",
    "\n",
    "# 3️⃣ Unimos ambos subconjuntos y mezclamos aleatoriamente\n",
    "df_subset = pd.concat([df_pneu_bal, df_norm_bal], ignore_index=True)\n",
    "df_subset = df_subset.sample(frac=1, random_state=42).reset_index(drop=True)\n",
    "\n",
    "# 4️⃣ Comprobamos el resultado\n",
    "print(\"Total imágenes en el subset:\", len(df_subset))\n",
    "print(df_subset['label'].value_counts())\n"
   ]
  },
  {
   "cell_type": "code",
   "execution_count": 29,
   "id": "c6958dbd-6f24-4dcc-b5eb-3ca363f377a1",
   "metadata": {},
   "outputs": [
    {
     "name": "stdout",
     "output_type": "stream",
     "text": [
      "Subset guardado en: D:\\Proyecto 1 - Neumonia\\data\\images\\..\\subset_balanced.csv\n"
     ]
    }
   ],
   "source": [
    "subset_path = os.path.join(IMG_DIR, \"..\", \"subset_balanced.csv\")\n",
    "df_subset.to_csv(subset_path, index=False)\n",
    "print(\"Subset guardado en:\", subset_path)"
   ]
  },
  {
   "cell_type": "code",
   "execution_count": 30,
   "id": "69e3ba62-f937-45e5-973a-02350d8c6d16",
   "metadata": {},
   "outputs": [],
   "source": [
    "import cv2\n",
    "import numpy as np\n",
    "\n",
    "def preprocess_image(path):\n",
    "    img = cv2.imread(path, cv2.IMREAD_GRAYSCALE)\n",
    "    if img is None:\n",
    "        return None  # por si falta algún archivo\n",
    "    img = cv2.resize(img, (128, 128))\n",
    "    img = img / 255.0\n",
    "    img = img.flatten()\n",
    "    return img"
   ]
  },
  {
   "cell_type": "code",
   "execution_count": 31,
   "id": "95f7abb1-81ab-4745-a293-604b5b4f188a",
   "metadata": {},
   "outputs": [
    {
     "name": "stdout",
     "output_type": "stream",
     "text": [
      "(16384,) 0.00392156862745098 0.8745098039215686\n"
     ]
    }
   ],
   "source": [
    "path = os.path.join(IMG_DIR, df_subset.iloc[0]['Image Index'])\n",
    "img_vector = preprocess_image(path)\n",
    "print(img_vector.shape, img_vector.min(), img_vector.max())"
   ]
  },
  {
   "cell_type": "code",
   "execution_count": 33,
   "id": "b60483c6-3e1b-4b07-82f4-8d71e0e06079",
   "metadata": {},
   "outputs": [
    {
     "name": "stdout",
     "output_type": "stream",
     "text": [
      "(322, 16384) (322,)\n"
     ]
    }
   ],
   "source": [
    "X = []\n",
    "y = []\n",
    "\n",
    "for i, row in df_subset.iterrows():\n",
    "    path = os.path.join(IMG_DIR, row['Image Index'])\n",
    "    img_vector = preprocess_image(path)\n",
    "    if img_vector is not None:\n",
    "        X.append(img_vector)\n",
    "        y.append(row['label'])\n",
    "\n",
    "X = np.array(X)\n",
    "y = np.array(y)\n",
    "\n",
    "print(X.shape, y.shape)"
   ]
  },
  {
   "cell_type": "code",
   "execution_count": 34,
   "id": "06d23610-1408-4009-abfe-ec4b4238345b",
   "metadata": {},
   "outputs": [],
   "source": [
    "from sklearn.model_selection import train_test_split\n",
    "\n",
    "X_train, X_test, y_train, y_test = train_test_split(\n",
    "    X, y, \n",
    "    test_size=0.2,         # 20% de los datos para test\n",
    "    random_state=42,       # semilla aleatoria (para que siempre salga igual)\n",
    "    stratify=y             # mantiene equilibrio de clases 0/1\n",
    ")\n"
   ]
  },
  {
   "cell_type": "code",
   "execution_count": 36,
   "id": "49479b83-7e68-42ce-8674-6279caa96b93",
   "metadata": {},
   "outputs": [
    {
     "name": "stdout",
     "output_type": "stream",
     "text": [
      "Accuracy: 0.600\n",
      "AUC: 0.599\n"
     ]
    }
   ],
   "source": [
    "from sklearn.linear_model import LogisticRegression\n",
    "from sklearn.metrics import accuracy_score, confusion_matrix, roc_auc_score, roc_curve\n",
    "import matplotlib.pyplot as plt\n",
    "\n",
    "# 1️⃣ Crear el modelo\n",
    "model = LogisticRegression(max_iter=200, solver='liblinear')\n",
    "\n",
    "# 2️⃣ Entrenar\n",
    "model.fit(X_train, y_train)\n",
    "\n",
    "# 3️⃣ Predecir sobre el conjunto de test\n",
    "y_pred = model.predict(X_test)\n",
    "\n",
    "# 4️⃣ Calcular métricas\n",
    "acc = accuracy_score(y_test, y_pred)\n",
    "auc = roc_auc_score(y_test, y_pred)\n",
    "\n",
    "print(f\"Accuracy: {acc:.3f}\")\n",
    "print(f\"AUC: {auc:.3f}\")\n"
   ]
  },
  {
   "cell_type": "code",
   "execution_count": 37,
   "id": "744da4c2-7363-411d-8aa7-41a37dddfd5e",
   "metadata": {},
   "outputs": [
    {
     "name": "stdout",
     "output_type": "stream",
     "text": [
      "Matriz de confusión:\n",
      "[[21 12]\n",
      " [14 18]]\n"
     ]
    }
   ],
   "source": [
    "cm = confusion_matrix(y_test, y_pred)\n",
    "print(\"Matriz de confusión:\")\n",
    "print(cm)\n"
   ]
  },
  {
   "cell_type": "code",
   "execution_count": 38,
   "id": "84e9b86b-c61d-405f-9d2c-8bfbaa203161",
   "metadata": {},
   "outputs": [
    {
     "name": "stdout",
     "output_type": "stream",
     "text": [
      "SVM Accuracy: 0.585\n",
      "SVM AUC: 0.585\n",
      "Matriz de confusión:\n",
      "[[19 14]\n",
      " [13 19]]\n"
     ]
    }
   ],
   "source": [
    "from sklearn.svm import SVC\n",
    "from sklearn.metrics import accuracy_score, confusion_matrix, roc_auc_score\n",
    "\n",
    "# 1️⃣ Crear el modelo\n",
    "svm_model = SVC(kernel='rbf', C=1, gamma='scale', probability=True)\n",
    "\n",
    "# 2️⃣ Entrenar\n",
    "svm_model.fit(X_train, y_train)\n",
    "\n",
    "# 3️⃣ Predecir\n",
    "y_pred_svm = svm_model.predict(X_test)\n",
    "\n",
    "# 4️⃣ Evaluar\n",
    "acc_svm = accuracy_score(y_test, y_pred_svm)\n",
    "auc_svm = roc_auc_score(y_test, y_pred_svm)\n",
    "\n",
    "print(f\"SVM Accuracy: {acc_svm:.3f}\")\n",
    "print(f\"SVM AUC: {auc_svm:.3f}\")\n",
    "\n",
    "# 5️⃣ Matriz de confusión\n",
    "cm_svm = confusion_matrix(y_test, y_pred_svm)\n",
    "print(\"Matriz de confusión:\")\n",
    "print(cm_svm)\n"
   ]
  },
  {
   "cell_type": "code",
   "execution_count": 39,
   "id": "61dab224-89b3-4dfa-aaa3-23ffaaba6b6b",
   "metadata": {},
   "outputs": [
    {
     "name": "stdout",
     "output_type": "stream",
     "text": [
      "Tamaño original: (257, 16384)\n",
      "Tamaño reducido: (257, 83)\n"
     ]
    }
   ],
   "source": [
    "from sklearn.decomposition import PCA\n",
    "import numpy as np\n",
    "\n",
    "# 1️⃣ Definimos el PCA\n",
    "# n_components puede ser un número (ej. 100) o una fracción (ej. 0.95 = conservar 95% de la varianza)\n",
    "pca = PCA(n_components=0.95, random_state=42)\n",
    "\n",
    "# 2️⃣ Ajustamos PCA solo con los datos de entrenamiento\n",
    "pca.fit(X_train)\n",
    "\n",
    "# 3️⃣ Transformamos train y test\n",
    "X_train_pca = pca.transform(X_train)\n",
    "X_test_pca = pca.transform(X_test)\n",
    "\n",
    "print(\"Tamaño original:\", X_train.shape)\n",
    "print(\"Tamaño reducido:\", X_train_pca.shape)\n"
   ]
  },
  {
   "cell_type": "code",
   "execution_count": 44,
   "id": "99a1042c-0f9b-45d6-91d1-4920d9363bb1",
   "metadata": {},
   "outputs": [
    {
     "name": "stdout",
     "output_type": "stream",
     "text": [
      "Accuracy: 0.615\n",
      "SVM AUC: 0.615\n"
     ]
    }
   ],
   "source": [
    "model = LogisticRegression(max_iter=200, solver='liblinear')\n",
    "model.fit(X_train_pca, y_train)\n",
    "y_pred = model.predict(X_test_pca)\n",
    "acc = accuracy_score(y_test, y_pred)\n",
    "auc = roc_auc_score(y_test, y_pred)\n",
    "\n",
    "print(f\"Accuracy: {acc_svm:.3f}\")\n",
    "print(f\"SVM AUC: {auc_svm:.3f}\")"
   ]
  },
  {
   "cell_type": "code",
   "execution_count": 45,
   "id": "cdfa0d52-2ac9-473b-acfb-5c08a49b52ee",
   "metadata": {},
   "outputs": [
    {
     "name": "stdout",
     "output_type": "stream",
     "text": [
      "SVM (PCA) Accuracy: 0.600\n",
      "SVM (PCA) AUC: 0.599\n"
     ]
    }
   ],
   "source": [
    "svm = SVC(kernel='rbf', C=1, gamma='scale')\n",
    "svm.fit(X_train_pca, y_train)\n",
    "y_pred = svm.predict(X_test_pca)\n",
    "\n",
    "acc = accuracy_score(y_test, y_pred)\n",
    "auc = roc_auc_score(y_test, y_pred)\n",
    "\n",
    "print(f\"SVM (PCA) Accuracy: {acc:.3f}\")\n",
    "print(f\"SVM (PCA) AUC: {auc:.3f}\")\n"
   ]
  },
  {
   "cell_type": "code",
   "execution_count": 46,
   "id": "ef6663ee-dc72-46d9-9de5-1801d5e4d0a6",
   "metadata": {},
   "outputs": [
    {
     "name": "stdout",
     "output_type": "stream",
     "text": [
      "Random Forest Accuracy: 0.615\n",
      "Random Forest AUC: 0.615\n",
      "Matriz de confusión:\n",
      "[[21 12]\n",
      " [13 19]]\n"
     ]
    }
   ],
   "source": [
    "from sklearn.ensemble import RandomForestClassifier\n",
    "from sklearn.metrics import accuracy_score, roc_auc_score, confusion_matrix\n",
    "\n",
    "# 1️⃣ Crear modelo\n",
    "rf = RandomForestClassifier(n_estimators=100, random_state=42)\n",
    "\n",
    "# 2️⃣ Entrenar\n",
    "rf.fit(X_train_pca, y_train)\n",
    "\n",
    "# 3️⃣ Predecir\n",
    "y_pred_rf = rf.predict(X_test_pca)\n",
    "\n",
    "# 4️⃣ Evaluar\n",
    "acc_rf = accuracy_score(y_test, y_pred_rf)\n",
    "auc_rf = roc_auc_score(y_test, y_pred_rf)\n",
    "\n",
    "print(f\"Random Forest Accuracy: {acc_rf:.3f}\")\n",
    "print(f\"Random Forest AUC: {auc_rf:.3f}\")\n",
    "\n",
    "cm_rf = confusion_matrix(y_test, y_pred_rf)\n",
    "print(\"Matriz de confusión:\")\n",
    "print(cm_rf)\n"
   ]
  },
  {
   "cell_type": "code",
   "execution_count": 47,
   "id": "4e4ee02e-5676-4399-b869-df05cba1aeab",
   "metadata": {},
   "outputs": [
    {
     "name": "stdout",
     "output_type": "stream",
     "text": [
      "Collecting xgboost\n",
      "  Downloading xgboost-3.1.1-py3-none-win_amd64.whl.metadata (2.1 kB)\n",
      "Requirement already satisfied: numpy in c:\\users\\cristian\\anaconda3\\envs\\pneumonia_ml\\lib\\site-packages (from xgboost) (2.2.6)\n",
      "Requirement already satisfied: scipy in c:\\users\\cristian\\anaconda3\\envs\\pneumonia_ml\\lib\\site-packages (from xgboost) (1.15.3)\n",
      "Downloading xgboost-3.1.1-py3-none-win_amd64.whl (72.0 MB)\n",
      "   ---------------------------------------- 0.0/72.0 MB ? eta -:--:--\n",
      "   -------- ------------------------------- 14.9/72.0 MB 94.1 MB/s eta 0:00:01\n",
      "   ------------------ --------------------- 32.8/72.0 MB 90.5 MB/s eta 0:00:01\n",
      "   ---------------------- ----------------- 41.2/72.0 MB 84.5 MB/s eta 0:00:01\n",
      "   --------------------------- ------------ 48.8/72.0 MB 62.1 MB/s eta 0:00:01\n",
      "   ---------------------------------------  71.8/72.0 MB 71.6 MB/s eta 0:00:01\n",
      "   ---------------------------------------- 72.0/72.0 MB 64.7 MB/s  0:00:01\n",
      "Installing collected packages: xgboost\n",
      "Successfully installed xgboost-3.1.1\n",
      "Note: you may need to restart the kernel to use updated packages.\n"
     ]
    }
   ],
   "source": [
    "pip install xgboost\n"
   ]
  },
  {
   "cell_type": "code",
   "execution_count": 50,
   "id": "40d57ba2-7f10-4520-b0ff-2def71285c86",
   "metadata": {},
   "outputs": [
    {
     "name": "stderr",
     "output_type": "stream",
     "text": [
      "C:\\Users\\Cristian\\anaconda3\\envs\\pneumonia_ml\\lib\\site-packages\\xgboost\\training.py:199: UserWarning: [21:59:20] WARNING: C:\\actions-runner\\_work\\xgboost\\xgboost\\src\\learner.cc:790: \n",
      "Parameters: { \"use_label_encoder\" } are not used.\n",
      "\n",
      "  bst.update(dtrain, iteration=i, fobj=obj)\n"
     ]
    },
    {
     "name": "stdout",
     "output_type": "stream",
     "text": [
      "XGBoost Accuracy: 0.554\n",
      "XGBoost AUC: 0.554\n",
      "Matriz de confusión:\n",
      "[[18 15]\n",
      " [14 18]]\n"
     ]
    }
   ],
   "source": [
    "import xgboost as xgb\n",
    "from sklearn.metrics import accuracy_score, roc_auc_score, confusion_matrix\n",
    "# 1️⃣ Crear modelo\n",
    "xgb_model = xgb.XGBClassifier(\n",
    "    n_estimators=200,      # número de árboles\n",
    "    learning_rate=0.05,    # tasa de aprendizaje (más bajo = más estable)\n",
    "    max_depth=4,           # profundidad de los árboles\n",
    "    subsample=0.8,         # usa 80% de los datos en cada árbol\n",
    "    colsample_bytree=0.8,  # usa 80% de las features en cada árbol\n",
    "    random_state=42,\n",
    "    use_label_encoder=False,\n",
    "    eval_metric='logloss'\n",
    ")\n",
    "\n",
    "# 2️⃣ Entrenar\n",
    "xgb_model.fit(X_train_pca, y_train)\n",
    "\n",
    "# 3️⃣ Predecir\n",
    "y_pred_xgb = xgb_model.predict(X_test_pca)\n",
    "\n",
    "# 4️⃣ Evaluar\n",
    "acc_xgb = accuracy_score(y_test, y_pred_xgb)\n",
    "auc_xgb = roc_auc_score(y_test, y_pred_xgb)\n",
    "cm_xgb = confusion_matrix(y_test, y_pred_xgb)\n",
    "\n",
    "print(f\"XGBoost Accuracy: {acc_xgb:.3f}\")\n",
    "print(f\"XGBoost AUC: {auc_xgb:.3f}\")\n",
    "print(\"Matriz de confusión:\")\n",
    "print(cm_xgb)\n"
   ]
  },
  {
   "cell_type": "code",
   "execution_count": null,
   "id": "7db3a1db-54e3-47a4-b3bd-76dff8f2f33d",
   "metadata": {},
   "outputs": [],
   "source": []
  }
 ],
 "metadata": {
  "kernelspec": {
   "display_name": "Python 3 (ipykernel)",
   "language": "python",
   "name": "python3"
  },
  "language_info": {
   "codemirror_mode": {
    "name": "ipython",
    "version": 3
   },
   "file_extension": ".py",
   "mimetype": "text/x-python",
   "name": "python",
   "nbconvert_exporter": "python",
   "pygments_lexer": "ipython3",
   "version": "3.10.19"
  }
 },
 "nbformat": 4,
 "nbformat_minor": 5
}
